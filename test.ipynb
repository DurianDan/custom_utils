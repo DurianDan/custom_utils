{
 "cells": [
  {
   "cell_type": "code",
   "execution_count": 1,
   "metadata": {},
   "outputs": [
    {
     "name": "stderr",
     "output_type": "stream",
     "text": [
      "79056-WARNING-There isn't any running driver to quit()\n",
      "79056-WARNING-There isn't any running driver to quit()\n",
      "79056-INFO-====== WebDriver manager ======\n",
      "79056-INFO-Get LATEST chromedriver version for google-chrome 111.0.5563\n",
      "79056-INFO-Driver [/home/huynv/.wdm/drivers/chromedriver/linux64/111.0.5563/chromedriver] found in cache\n"
     ]
    },
    {
     "data": {
      "text/plain": [
       "'GmailHình ảnh\\nĐăng nhập\\nGoogle có các thứ tiếng: English Français 繁體中文\\nViệt Nam\\nGiới thiệu\\nQuảng cáo\\nDoanh nghiệp\\nCách hoạt động của Tìm kiếm\\nQuyền riêng tư\\nĐiều khoản\\nCài đặt'"
      ]
     },
     "execution_count": 1,
     "metadata": {},
     "output_type": "execute_result"
    }
   ],
   "source": [
    "from ScraperHelper.Scrape import *\n",
    "helper = driverHelper()\n",
    "helper.forceCreateDriver()\n",
    "helper.forceGet(\"https://google.com\")\n",
    "helper.forceFindElement(By.XPATH,\"./html/body\").text"
   ]
  },
  {
   "cell_type": "code",
   "execution_count": null,
   "metadata": {},
   "outputs": [],
   "source": [
    "helper.driver.quit()"
   ]
  },
  {
   "cell_type": "code",
   "execution_count": null,
   "metadata": {},
   "outputs": [],
   "source": []
  }
 ],
 "metadata": {
  "kernelspec": {
   "display_name": "alt-python",
   "language": "python",
   "name": "python3"
  },
  "language_info": {
   "codemirror_mode": {
    "name": "ipython",
    "version": 3
   },
   "file_extension": ".py",
   "mimetype": "text/x-python",
   "name": "python",
   "nbconvert_exporter": "python",
   "pygments_lexer": "ipython3",
   "version": "3.10.0"
  },
  "orig_nbformat": 4
 },
 "nbformat": 4,
 "nbformat_minor": 2
}
